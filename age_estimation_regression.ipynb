{
 "cells": [
  {
   "cell_type": "code",
   "execution_count": 0,
   "metadata": {
    "colab": {},
    "colab_type": "code",
    "id": "kT-P9uyJK7GT"
   },
   "outputs": [],
   "source": [
    "import os\n",
    "# os.environ['CUDA_VISIBLE_DEVICES'] = \"\""
   ]
  },
  {
   "cell_type": "code",
   "execution_count": 0,
   "metadata": {
    "colab": {},
    "colab_type": "code",
    "id": "4fUpOXPUK7GY"
   },
   "outputs": [],
   "source": [
    "from NN import *\n",
    "from utils import get_tf_session\n",
    "from data_utils import make_batch, single_np_datapoint_generator\n",
    "\n",
    "import tensorflow as tf\n",
    "import matplotlib.pyplot as plt\n",
    "import time"
   ]
  },
  {
   "cell_type": "code",
   "execution_count": 0,
   "metadata": {
    "colab": {},
    "colab_type": "code",
    "id": "B1vLGApaK7Ge"
   },
   "outputs": [],
   "source": [
    "train_dataset_files = [\n",
    " './data/tfrecords/0_cropped.tfrecord',\n",
    " './data/tfrecords/1_cropped.tfrecord',\n",
    " './data/tfrecords/2_cropped.tfrecord',\n",
    " './data/tfrecords/3_cropped.tfrecord',\n",
    " './data/tfrecords/4_cropped.tfrecord',\n",
    " './data/tfrecords/5_cropped.tfrecord',\n",
    " './data/tfrecords/6_cropped.tfrecord',\n",
    " './data/tfrecords/7_cropped.tfrecord',\n",
    " './data/tfrecords/8_cropped.tfrecord',\n",
    "]\n",
    "\n",
    "validation_dataset_files = ['./data/tfrecords/9_cropped.tfrecord']"
   ]
  },
  {
   "cell_type": "code",
   "execution_count": 6,
   "metadata": {
    "colab": {
     "base_uri": "https://localhost:8080/",
     "height": 88
    },
    "colab_type": "code",
    "executionInfo": {
     "elapsed": 1467,
     "status": "ok",
     "timestamp": 1543102965462,
     "user": {
      "displayName": "Aarushi Bisht",
      "photoUrl": "https://lh6.googleusercontent.com/-2XghgRfShmY/AAAAAAAAAAI/AAAAAAAAS-8/XZz-3V9YukY/s64/photo.jpg",
      "userId": "00253849553632547740"
     },
     "user_tz": 300
    },
    "id": "UiiR3kfLK7Gh",
    "outputId": "92fdb9d0-c684-46db-8cb8-ea18ff85c63f",
    "scrolled": false
   },
   "outputs": [
    {
     "name": "stdout",
     "output_type": "stream",
     "text": [
      "WARNING:tensorflow:From /usr/local/lib/python3.6/dist-packages/tensorflow/python/ops/sparse_ops.py:1165: sparse_to_dense (from tensorflow.python.ops.sparse_ops) is deprecated and will be removed in a future version.\n",
      "Instructions for updating:\n",
      "Create a `tf.sparse.SparseTensor` and use `tf.sparse.to_dense` instead.\n"
     ]
    }
   ],
   "source": [
    "X_batch, Y_batch = make_batch(train_dataset_files, 200, raw_values=True)\n",
    "no_of_outputs = 1\n",
    "age_dense = get_regression_NN(X_batch, 60, [lambda i: 10 + 3*i], 4, no_of_outputs)\n",
    "loss = tf.losses.mean_squared_error(tf.cast(tf.reshape(Y_batch[:, 1],[-1,1]), tf.int32), age_dense)\n",
    "train_op = get_training_op(loss)\n",
    "X = tf.placeholder(dtype=tf.float32, shape=(None, None, None, 3))\n",
    "age_pred = get_regression_NN(X, 60, [lambda i: 10 + 3*i], 4, no_of_outputs)"
   ]
  },
  {
   "cell_type": "code",
   "execution_count": 7,
   "metadata": {
    "colab": {
     "base_uri": "https://localhost:8080/",
     "height": 34
    },
    "colab_type": "code",
    "executionInfo": {
     "elapsed": 2011,
     "status": "ok",
     "timestamp": 1543102969579,
     "user": {
      "displayName": "Aarushi Bisht",
      "photoUrl": "https://lh6.googleusercontent.com/-2XghgRfShmY/AAAAAAAAAAI/AAAAAAAAS-8/XZz-3V9YukY/s64/photo.jpg",
      "userId": "00253849553632547740"
     },
     "user_tz": 300
    },
    "id": "4_Zakn1nK7Gl",
    "outputId": "13402d09-02ce-46d6-a536-f9f32eb5d444"
   },
   "outputs": [
    {
     "name": "stdout",
     "output_type": "stream",
     "text": [
      "Tensorflow is able to detect gpu...\n"
     ]
    }
   ],
   "source": [
    "sess = get_tf_session()\n",
    "if tf.test.is_gpu_available():\n",
    "    print(\"Tensorflow is able to detect gpu...\")"
   ]
  },
  {
   "cell_type": "code",
   "execution_count": 8,
   "metadata": {
    "colab": {
     "base_uri": "https://localhost:8080/",
     "height": 442
    },
    "colab_type": "code",
    "executionInfo": {
     "elapsed": 385781,
     "status": "ok",
     "timestamp": 1543103387288,
     "user": {
      "displayName": "Aarushi Bisht",
      "photoUrl": "https://lh6.googleusercontent.com/-2XghgRfShmY/AAAAAAAAAAI/AAAAAAAAS-8/XZz-3V9YukY/s64/photo.jpg",
      "userId": "00253849553632547740"
     },
     "user_tz": 300
    },
    "id": "c4CQmSMXK7Go",
    "outputId": "49de2bf6-6cf2-4efc-f3a8-8136a221de6f",
    "scrolled": false
   },
   "outputs": [
    {
     "name": "stdout",
     "output_type": "stream",
     "text": [
      "Batch No. 200 Avg loss: 331.8318941116333\n",
      "Batch No. 400 Avg loss: 157.04911346435546\n",
      "Batch No. 600 Avg loss: 154.50487873077392\n",
      "Batch No. 800 Avg loss: 151.47941005706787\n",
      "Batch No. 1000 Avg loss: 148.69893268585204\n",
      "Batch No. 1200 Avg loss: 146.11204273223876\n",
      "Batch No. 1400 Avg loss: 142.8570775604248\n",
      "Batch No. 1600 Avg loss: 140.3071291732788\n",
      "Batch No. 1800 Avg loss: 138.14426025390625\n",
      "Batch No. 2000 Avg loss: 136.46332008361816\n",
      "Batch No. 2200 Avg loss: 135.83071865081786\n",
      "Batch No. 2400 Avg loss: 134.92899894714355\n",
      "Batch No. 2600 Avg loss: 133.8459800720215\n",
      "Batch No. 2800 Avg loss: 132.29557598114013\n",
      "Batch No. 3000 Avg loss: 131.5482594680786\n",
      "Batch No. 3200 Avg loss: 130.68667163848878\n",
      "Batch No. 3400 Avg loss: 129.84105667114258\n",
      "Batch No. 3600 Avg loss: 129.20860927581788\n",
      "Batch No. 3800 Avg loss: 128.50024024963378\n",
      "Batch No. 4000 Avg loss: 127.55597728729248\n",
      "Batch No. 4200 Avg loss: 126.89839797973633\n",
      "Batch No. 4400 Avg loss: 126.2782810974121\n",
      "Batch No. 4600 Avg loss: 125.43907047271729\n",
      "Batch No. 4800 Avg loss: 124.7928237915039\n",
      "training took total 385.2217128276825 seconds\n"
     ]
    }
   ],
   "source": [
    "avg_loss = 0\n",
    "print_int = 200\n",
    "st = time.time()\n",
    "# while datetime.datetime.now().time() < datetime.time(hour=8, minute=30):\n",
    "for i in range(5000):\n",
    "    _, loss_value= sess.run([train_op, loss])\n",
    "    avg_loss += loss_value\n",
    "    if i>0 and i%print_int == 0:\n",
    "        print(\"Batch No.\", i, \"Avg loss:\", avg_loss/print_int)\n",
    "        avg_loss = 0\n",
    "print(\"training took total\", time.time() - st, \"seconds\")"
   ]
  },
  {
   "cell_type": "code",
   "execution_count": 26,
   "metadata": {
    "colab": {
     "base_uri": "https://localhost:8080/",
     "height": 34
    },
    "colab_type": "code",
    "executionInfo": {
     "elapsed": 4893,
     "status": "ok",
     "timestamp": 1543107928589,
     "user": {
      "displayName": "Aarushi Bisht",
      "photoUrl": "https://lh6.googleusercontent.com/-2XghgRfShmY/AAAAAAAAAAI/AAAAAAAAS-8/XZz-3V9YukY/s64/photo.jpg",
      "userId": "00253849553632547740"
     },
     "user_tz": 300
    },
    "id": "wqkHMFHwK7Gt",
    "outputId": "ee31d3e6-f683-4abc-d44c-c4810f83ff3e"
   },
   "outputs": [
    {
     "name": "stdout",
     "output_type": "stream",
     "text": [
      " Mean absolute Error 8.946773120425815\n"
     ]
    }
   ],
   "source": [
    "gen = single_np_datapoint_generator(validation_dataset_files, raw_values=True)\n",
    "total = 0\n",
    "absolute_error = 0\n",
    "actual_pred_pair = []\n",
    "for img, attr in group_iterable_into_list(gen, 20, 2):\n",
    "    pred = sess.run([age_pred], feed_dict={X: img})[0]\n",
    "    age_value = np.array(attr)[:, 1]\n",
    "    pred = np.round(pred).reshape(1,pred.shape[0])[0]\n",
    "    absolute_error += np.sum(np.absolute(pred-age_value))\n",
    "    total += pred.shape[0]\n",
    "    for i in range(len(pred)):\n",
    "      actual_pred_pair.append((age_value[i], pred[i]))\n",
    "print(\" Mean absolute Error\", absolute_error/total)"
   ]
  },
  {
   "cell_type": "code",
   "execution_count": 41,
   "metadata": {
    "colab": {
     "base_uri": "https://localhost:8080/",
     "height": 347
    },
    "colab_type": "code",
    "executionInfo": {
     "elapsed": 1506,
     "status": "ok",
     "timestamp": 1543109881834,
     "user": {
      "displayName": "Aarushi Bisht",
      "photoUrl": "https://lh6.googleusercontent.com/-2XghgRfShmY/AAAAAAAAAAI/AAAAAAAAS-8/XZz-3V9YukY/s64/photo.jpg",
      "userId": "00253849553632547740"
     },
     "user_tz": 300
    },
    "id": "8dQLb9hVzail",
    "outputId": "0f70877b-ad09-437c-a673-aae935f666de"
   },
   "outputs": [
    {
     "data": {
      "image/png": "[encoded data removed]",
      "text/plain": [
       "<matplotlib.figure.Figure at 0x7ff4637676d8>"
      ]
     },
     "metadata": {
      "tags": []
     },
     "output_type": "display_data"
    }
   ],
   "source": [
    "actual_pred_pair_sorted = sorted(actual_pred_pair, key=lambda x: x[0])\n",
    "plt.plot([x[0] for x in actual_pred_pair_sorted], label=\"Actual age\")\n",
    "plt.ylabel(\"Age\")\n",
    "plt.plot([x[1] for x in actual_pred_pair_sorted],label=\"Predicted age\")\n",
    "plt.legend()\n",
    "plt.show()"
   ]
  }
 ],
 "metadata": {
  "accelerator": "GPU",
  "colab": {
   "collapsed_sections": [],
   "name": "age_estimation_regression.ipynb",
   "provenance": [],
   "version": "0.3.2"
  },
  "kernelspec": {
   "display_name": "Python 3",
   "language": "python",
   "name": "python3"
  },
  "language_info": {
   "codemirror_mode": {
    "name": "ipython",
    "version": 3
   },
   "file_extension": ".py",
   "mimetype": "text/x-python",
   "name": "python",
   "nbconvert_exporter": "python",
   "pygments_lexer": "ipython3",
   "version": "3.6.5"
  }
 },
 "nbformat": 4,
 "nbformat_minor": 1
}
