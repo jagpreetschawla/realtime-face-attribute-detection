{
 "cells": [
  {
   "cell_type": "code",
   "execution_count": null,
   "metadata": {
    "colab": {},
    "colab_type": "code",
    "id": "kT-P9uyJK7GT"
   },
   "outputs": [],
   "source": [
    "import os\n",
    "# os.environ['CUDA_VISIBLE_DEVICES'] = \"\""
   ]
  },
  {
   "cell_type": "code",
   "execution_count": null,
   "metadata": {
    "colab": {},
    "colab_type": "code",
    "id": "4fUpOXPUK7GY"
   },
   "outputs": [],
   "source": [
    "from NN import *\n",
    "from utils import get_tf_session\n",
    "from data_utils import make_batch, single_np_datapoint_generator\n",
    "\n",
    "import tensorflow as tf\n",
    "import matplotlib.pyplot as plt\n",
    "import time"
   ]
  },
  {
   "cell_type": "code",
   "execution_count": null,
   "metadata": {
    "colab": {},
    "colab_type": "code",
    "id": "B1vLGApaK7Ge"
   },
   "outputs": [],
   "source": [
    "train_dataset_files = [\n",
    " './data/tfrecords/0_cropped.tfrecord',\n",
    " './data/tfrecords/1_cropped.tfrecord',\n",
    " './data/tfrecords/2_cropped.tfrecord',\n",
    " './data/tfrecords/3_cropped.tfrecord',\n",
    " './data/tfrecords/4_cropped.tfrecord',\n",
    " './data/tfrecords/5_cropped.tfrecord',\n",
    " './data/tfrecords/6_cropped.tfrecord',\n",
    " './data/tfrecords/7_cropped.tfrecord',\n",
    " './data/tfrecords/8_cropped.tfrecord',\n",
    "]\n",
    "\n",
    "validation_dataset_files = ['./data/tfrecords/9_cropped.tfrecord']"
   ]
  },
  {
   "cell_type": "code",
   "execution_count": 4,
   "metadata": {
    "colab": {
     "base_uri": "https://localhost:8080/",
     "height": 88
    },
    "colab_type": "code",
    "executionInfo": {
     "elapsed": 1482,
     "status": "ok",
     "timestamp": 1543044113317,
     "user": {
      "displayName": "Aarushi Bisht",
      "photoUrl": "https://lh6.googleusercontent.com/-2XghgRfShmY/AAAAAAAAAAI/AAAAAAAAS-8/XZz-3V9YukY/s64/photo.jpg",
      "userId": "00253849553632547740"
     },
     "user_tz": 300
    },
    "id": "UiiR3kfLK7Gh",
    "outputId": "91da6959-04e8-4758-9952-1ebf2731f4f4",
    "scrolled": false
   },
   "outputs": [
    {
     "name": "stdout",
     "output_type": "stream",
     "text": [
      "WARNING:tensorflow:From /usr/local/lib/python3.6/dist-packages/tensorflow/python/ops/sparse_ops.py:1165: sparse_to_dense (from tensorflow.python.ops.sparse_ops) is deprecated and will be removed in a future version.\n",
      "Instructions for updating:\n",
      "Create a `tf.sparse.SparseTensor` and use `tf.sparse.to_dense` instead.\n"
     ]
    }
   ],
   "source": [
    "X_batch, Y_batch = make_batch(train_dataset_files, 200, raw_values=True)\n",
    "no_of_outputs = 7\n",
    "_, age_logits = get_classification_NN(X_batch, 60, [lambda i: 10 + 3*i], 4, no_of_outputs)\n",
    "loss = tf.losses.sparse_softmax_cross_entropy(tf.cast((Y_batch[:, 1] - 10)/10, tf.int32), age_logits)\n",
    "train_op = get_training_op(loss)\n",
    "X = tf.placeholder(dtype=tf.float32, shape=(None, None, None, 3))\n",
    "age, _ = get_classification_NN(X, 60, [lambda i: 10 + 3*i], 4, no_of_outputs)"
   ]
  },
  {
   "cell_type": "code",
   "execution_count": 5,
   "metadata": {
    "colab": {
     "base_uri": "https://localhost:8080/",
     "height": 34
    },
    "colab_type": "code",
    "executionInfo": {
     "elapsed": 1137,
     "status": "ok",
     "timestamp": 1543044120024,
     "user": {
      "displayName": "Aarushi Bisht",
      "photoUrl": "https://lh6.googleusercontent.com/-2XghgRfShmY/AAAAAAAAAAI/AAAAAAAAS-8/XZz-3V9YukY/s64/photo.jpg",
      "userId": "00253849553632547740"
     },
     "user_tz": 300
    },
    "id": "4_Zakn1nK7Gl",
    "outputId": "fd426f3a-b4fc-4c74-d3a4-8533b378636f"
   },
   "outputs": [
    {
     "name": "stdout",
     "output_type": "stream",
     "text": [
      "Tensorflow is able to detect gpu...\n"
     ]
    }
   ],
   "source": [
    "sess = get_tf_session()\n",
    "if tf.test.is_gpu_available():\n",
    "    print(\"Tensorflow is able to detect gpu...\")"
   ]
  },
  {
   "cell_type": "code",
   "execution_count": 6,
   "metadata": {
    "colab": {
     "base_uri": "https://localhost:8080/",
     "height": 442
    },
    "colab_type": "code",
    "executionInfo": {
     "elapsed": 394689,
     "status": "ok",
     "timestamp": 1543044516176,
     "user": {
      "displayName": "Aarushi Bisht",
      "photoUrl": "https://lh6.googleusercontent.com/-2XghgRfShmY/AAAAAAAAAAI/AAAAAAAAS-8/XZz-3V9YukY/s64/photo.jpg",
      "userId": "00253849553632547740"
     },
     "user_tz": 300
    },
    "id": "c4CQmSMXK7Go",
    "outputId": "35befd67-001a-49ad-ebe9-9c67b6a6f02a",
    "scrolled": false
   },
   "outputs": [
    {
     "name": "stdout",
     "output_type": "stream",
     "text": [
      "Batch No. 200 Avg loss: 1.6737267291545868\n",
      "Batch No. 400 Avg loss: 1.6345791822671891\n",
      "Batch No. 600 Avg loss: 1.6235600543022155\n",
      "Batch No. 800 Avg loss: 1.6120854979753494\n",
      "Batch No. 1000 Avg loss: 1.5967767149209977\n",
      "Batch No. 1200 Avg loss: 1.5869263374805451\n",
      "Batch No. 1400 Avg loss: 1.572634575366974\n",
      "Batch No. 1600 Avg loss: 1.5580687123537063\n",
      "Batch No. 1800 Avg loss: 1.544734951853752\n",
      "Batch No. 2000 Avg loss: 1.530384379029274\n",
      "Batch No. 2200 Avg loss: 1.5204052072763443\n",
      "Batch No. 2400 Avg loss: 1.5098592001199722\n",
      "Batch No. 2600 Avg loss: 1.4971493977308272\n",
      "Batch No. 2800 Avg loss: 1.481782270669937\n",
      "Batch No. 3000 Avg loss: 1.469295637011528\n",
      "Batch No. 3200 Avg loss: 1.4591459798812867\n",
      "Batch No. 3400 Avg loss: 1.4496593546867371\n",
      "Batch No. 3600 Avg loss: 1.4403153842687606\n",
      "Batch No. 3800 Avg loss: 1.4296376419067383\n",
      "Batch No. 4000 Avg loss: 1.422810165286064\n",
      "Batch No. 4200 Avg loss: 1.4147529816627502\n",
      "Batch No. 4400 Avg loss: 1.4079501551389695\n",
      "Batch No. 4600 Avg loss: 1.396734335422516\n",
      "Batch No. 4800 Avg loss: 1.3911049163341522\n",
      "training took total 393.8736820220947 seconds\n"
     ]
    }
   ],
   "source": [
    "avg_loss = 0\n",
    "print_int = 200\n",
    "st = time.time()\n",
    "# while datetime.datetime.now().time() < datetime.time(hour=8, minute=30):\n",
    "for i in range(5000):\n",
    "    _, loss_value= sess.run([train_op, loss])\n",
    "    avg_loss += loss_value\n",
    "    if i>0 and i%print_int == 0:\n",
    "        print(\"Batch No.\", i, \"Avg loss:\", avg_loss/print_int)\n",
    "        avg_loss = 0\n",
    "print(\"training took total\", time.time() - st, \"seconds\")"
   ]
  },
  {
   "cell_type": "code",
   "execution_count": 7,
   "metadata": {
    "colab": {
     "base_uri": "https://localhost:8080/",
     "height": 34
    },
    "colab_type": "code",
    "executionInfo": {
     "elapsed": 4977,
     "status": "ok",
     "timestamp": 1543044683129,
     "user": {
      "displayName": "Aarushi Bisht",
      "photoUrl": "https://lh6.googleusercontent.com/-2XghgRfShmY/AAAAAAAAAAI/AAAAAAAAS-8/XZz-3V9YukY/s64/photo.jpg",
      "userId": "00253849553632547740"
     },
     "user_tz": 300
    },
    "id": "wqkHMFHwK7Gt",
    "outputId": "7715b7bb-299f-4e04-f263-bc59005dfd53"
   },
   "outputs": [
    {
     "name": "stdout",
     "output_type": "stream",
     "text": [
      "Accuracy 0.3639387890884897\n"
     ]
    }
   ],
   "source": [
    "gen = single_np_datapoint_generator(validation_dataset_files, raw_values=True)\n",
    "correct = 0\n",
    "total = 0\n",
    "for img, attr in group_iterable_into_list(gen, 20, 2):\n",
    "    pred = sess.run([age], feed_dict={X: img})[0]\n",
    "    age_binned = np.floor((np.array(attr)[:, 1] - 10)/10)\n",
    "    pred_labels = np.argmax(pred, axis=1)\n",
    "    correct += np.count_nonzero(pred_labels == age_binned)\n",
    "    total += pred.shape[0]\n",
    "print(\"Accuracy\", correct/total)"
   ]
  },
  {
   "cell_type": "code",
   "execution_count": null,
   "metadata": {
    "colab": {},
    "colab_type": "code",
    "id": "tZRsy6oJOsV5"
   },
   "outputs": [],
   "source": []
  }
 ],
 "metadata": {
  "accelerator": "GPU",
  "colab": {
   "collapsed_sections": [],
   "name": "age_detection.ipynb",
   "provenance": [],
   "version": "0.3.2"
  },
  "kernelspec": {
   "display_name": "Python 3",
   "language": "python",
   "name": "python3"
  },
  "language_info": {
   "codemirror_mode": {
    "name": "ipython",
    "version": 3
   },
   "file_extension": ".py",
   "mimetype": "text/x-python",
   "name": "python",
   "nbconvert_exporter": "python",
   "pygments_lexer": "ipython3",
   "version": "3.6.6"
  }
 },
 "nbformat": 4,
 "nbformat_minor": 2
}
